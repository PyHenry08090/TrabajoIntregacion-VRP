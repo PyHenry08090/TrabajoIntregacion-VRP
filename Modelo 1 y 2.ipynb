{
 "cells": [
  {
   "cell_type": "code",
   "execution_count": 6,
   "metadata": {},
   "outputs": [],
   "source": [
    "import numpy as np\n",
    "from gurobipy import *\n",
    "import pandas as pd\n",
    "np.random.seed(1)"
   ]
  },
  {
   "cell_type": "code",
   "execution_count": 2,
   "metadata": {},
   "outputs": [],
   "source": [
    "def Corte_Entrada(i,A):\n",
    "    Ce = []\n",
    "    for (x,y) in A:\n",
    "        if y== i:\n",
    "            Ce = Ce + [(x,y)]\n",
    "    return Ce\n",
    "\n",
    "def Corte_Salida(i):\n",
    "    Cs = []\n",
    "    for (x,y) in A:\n",
    "            if x==i:\n",
    "                Cs = Cs + [(x,y)]\n",
    "    return Cs\n",
    "\n",
    "def Corte_Entrada_Nodo(i,A):\n",
    "    Ce = []\n",
    "    for (x,y) in A:\n",
    "        if y== i:\n",
    "            Ce = Ce + [x]\n",
    "    return Ce\n",
    "\n",
    "def Corte_Salida_Nodo(i,A):\n",
    "    Cs = []\n",
    "    for (x,y) in A:\n",
    "            if x==i:\n",
    "                Cs = Cs + [y]\n",
    "    return Cs"
   ]
  },
  {
   "cell_type": "markdown",
   "metadata": {},
   "source": [
    "## MODELO 1"
   ]
  },
  {
   "cell_type": "code",
   "execution_count": 1,
   "metadata": {},
   "outputs": [],
   "source": [
    "def Trabajo(gap=0,time=3600):\n",
    "    m = Model()\n",
    "\n",
    "    # Crear las variables\n",
    "    x = m.addVars([(k, m, i, j) for (k, m, i, j) in K], name=\"x\", vtype=GRB.BINARY)\n",
    "    y = m.addVars([(k, m, j) for k in range (1,n1+1) for m in M[k] for j in V_D], name=\"y\", vtype=GRB.BINARY)\n",
    "    a = m.addVars([(k, m, i, d) for k in range (1,n1+1) for m in M[k] for i in V for d in range(1,1+n2)] , name = \"a\", vtype = GRB.INTEGER, lb=0)\n",
    "    z = m.addVars([(k, m) for k in range (1,n1+1) for m in M[k] ], name = \"z\", vtype = GRB.BINARY )\n",
    "    u = m.addVars( V, name=\"u\", vtype = GRB.INTEGER, lb=1, ub= n)\n",
    "    m.update()\n",
    "    \n",
    "    #Función Objetivo\n",
    "    t_V = {(k, m, i, j): c[i,j] for(k,m,i,j) in K}\n",
    "\n",
    "    m.setObjective(x.prod(t_V) + z.prod(c_M) , GRB.MINIMIZE)\n",
    "\n",
    "    #Restricciones\n",
    "    \n",
    "    for k,b,i,j in K:\n",
    "        if type(i) == str or type(j) == str:\n",
    "            continue\n",
    "        m.addConstr(\n",
    "            (u[j]  >= u[i] + (1 + n)*x[k,b,i,j] - n)\n",
    "        )\n",
    "    \n",
    "    \n",
    "    m.addConstrs(\n",
    "        ( x.sum(k, m,\"O\"+str(k) ,\"*\")  == z[k,m] for k in range(1,n1+1) for m in M[k]) \n",
    "    )\n",
    "\n",
    "    m.addConstrs(\n",
    "        quicksum(x[k, m, j[0], \"D\"+str(p)]  for p in range(1,n2+1) for j in Corte_Entrada(\"D\"+str(p), At) ) == z[k, m]  for k in range(1,n1+1) for m in M[k]\n",
    "    )\n",
    "    \n",
    "    m.addConstrs(\n",
    "        ( x.sum(k, m,\"*\" ,i)  == y[k, m, i]  for k in range(1,n1+1) for m in M[k] for i in V) \n",
    "    ) \n",
    "    \n",
    "    m.addConstrs(\n",
    "        ( x.sum(k, m,\"*\",\"D\"+str(p) )  == y[k, m, \"D\"+str(p)] for k in range(1,n1+1) for m in M[k] for p in range(1,n2+1)) \n",
    "    )\n",
    "    \n",
    "    m.addConstrs(\n",
    "        ( x.sum(k, m, \"*\",s)  == x.sum(k, m ,s,\"*\") for k in range(1,n1+1) for m in M[k] for s in V)\n",
    "    )\n",
    "\n",
    "#     m.addConstrs(\n",
    "#         ( x.sum(k, \"*\",\"O\"+str(k),\"*\") <= len(M[k]) for k in range(1,n1+1))\n",
    "#     )\n",
    "    \n",
    "    m.addConstrs(\n",
    "        (a.sum(k, m, \"*\", p) <= Dem[p]*y[k, m, \"D\"+str(p)] for k in range(1,n1+1) for m in M[k] for p in range(1,1+n2))\n",
    "    )\n",
    "    \n",
    "    m.addConstrs(\n",
    "        (a.sum(\"*\", \"*\", i, \"*\") <= OF[i] for i in V )\n",
    "    )\n",
    "\n",
    "\n",
    "    m.addConstrs(\n",
    "        (a.sum(k, m,\"*\", \"*\") <= Q[k, m]  for k in range(1,n1+1) for m in M[k])\n",
    "    )\n",
    "\n",
    "    m.addConstrs(\n",
    "       (a[k, m, i, p]<= OF[i]*y[k, m, i] for p in range(1,n2+1)  for k in range(1,n1+1) for m in M[k] for i in V )\n",
    "    )\n",
    "\n",
    "    m.addConstrs(\n",
    "        (a.sum(\"*\", \"*\", \"*\", p) == Dem[p] for p in range(1,n2+1))\n",
    "    )\n",
    "\n",
    "    m.Params.MIPGap = gap\n",
    "    m.Params.TimeLimit = time\n",
    "    \n",
    "    m.optimize()\n",
    "    par={}\n",
    "    clasi = {}\n",
    "    producto = {}\n",
    "    \n",
    "    try:\n",
    "    \n",
    "        if m.status == GRB.Status.TIME_LIMIT or  m.status == GRB.Status.OPTIMAL:\n",
    "            par = {\"Obj\":m.objval, \"GAP\":abs(m.objval-m.ObjBoundC) /abs(m.objval), \"Time\": m.Runtime}\n",
    "\n",
    "\n",
    "        if m.status == GRB.Status.TIME_LIMIT or  m.status == GRB.Status.OPTIMAL:\n",
    "        # Recuperar los valores de las variables\n",
    "            vx = m.getAttr('x', x)\n",
    "            print('Arcos seleccionados:')\n",
    "            for (k,m1,i,j) in K:\n",
    "                if vx[k,m1,i,j] >= 0.99:\n",
    "                    print('Deposito {} usa el auto{}:= {} -> {}'.format(k,m1, i, j))\n",
    "                    if (\"O\"+str(k)+\"-\"+str(m1) in clasi.keys() )== False:\n",
    "                        clasi.update({\"O\"+str(k)+\"-\"+str(m1) : [(i,j)]})\n",
    "                    else:\n",
    "                        clasi[\"O\"+str(k)+\"-\"+str(m1)]  = clasi[\"O\"+str(k)+\"-\"+str(m1)] + [(i,j)]\n",
    "\n",
    "\n",
    "        print(\"-\"*20)\n",
    "\n",
    "\n",
    "        if m.status == GRB.Status.TIME_LIMIT or  m.status == GRB.Status.OPTIMAL:\n",
    "             for k in range (1,n1+1):\n",
    "                    for m1 in M[k]:\n",
    "                        for i in V :\n",
    "                            for d in range(1,1+n2):\n",
    "                                if a[k,m1,i,d].x>0:\n",
    "                                    c_prod = a[k,m1,i,d].x\n",
    "                                    if ((\"O\"+str(k),m1) in producto.keys() )== False:\n",
    "                                            producto.update({(\"O\"+str(k),m1): [(i, c_prod,d)] })\n",
    "                                    else:\n",
    "                                        producto[(\"O\"+str(k),m1)] = producto[(\"O\"+str(k),m1)] + [(i, c_prod,d)]\n",
    "                                    print(\"El auto {} del deposito {} recoge {} del producto en {} para {}\".format(m1,k,c_prod,i,d))\n",
    "\n",
    "        if m.status == GRB.Status.TIME_LIMIT or  m.status == GRB.Status.OPTIMAL:\n",
    "            for k in range (1,n1+1):\n",
    "                for m1 in M[k]: \n",
    "                    for j in V_D:\n",
    "                        if y[k,m1,j].x>0.99:\n",
    "                            print(\"el auto {} del deposito {} visita {}\".format(m1, k, j))\n",
    "    except:\n",
    "        print(\"TIME LIMIT!\")\n",
    "        \n",
    "        \n",
    "    return clasi, producto, par"
   ]
  },
  {
   "cell_type": "markdown",
   "metadata": {},
   "source": [
    "## MODELO 2"
   ]
  },
  {
   "cell_type": "code",
   "execution_count": 2,
   "metadata": {},
   "outputs": [],
   "source": [
    "\n",
    "def Trabajo1 (gap=0, time = 3600,Autos =[]):\n",
    "    np.random.seed(1)\n",
    "    m = Model()\n",
    "    # Crear las variables\n",
    "    print(\"CREANDO VARIABLES\")\n",
    "    x = m.addVars([(k, m, i, j) for (k, m, i, j) in K], name=\"x\", vtype=GRB.BINARY)\n",
    "    y = m.addVars([(k, m, j) for k in range (1,n1+1) for m in M[k] for j in V_D], name=\"y\", vtype=GRB.BINARY)\n",
    "    a = m.addVars([(k, m, i, d) for k in range (1,n1+1) for m in M[k] for i in V for d in range(1,1+n2)] , name = \"a\", vtype = GRB.INTEGER, lb=0)\n",
    "    u = m.addVars( V, name=\"u\", vtype = GRB.INTEGER, lb=1, ub= n)\n",
    "    m.update()\n",
    "    \n",
    "    #Función Objetivo\n",
    "    t_V = {(k, m, i, j): c[i,j] for(k,m,i,j) in K}\n",
    "    C_M ={ (k, m, \"O\"+str(k), i): c_M[k,m] for k in range(1,n1+1) for m in M[k] for i in V}\n",
    "    \n",
    "    print(\"CREANDO FUNCION OBJ\")\n",
    "    m.setObjective(x.prod(t_V) + x.prod(C_M) , GRB.MINIMIZE)\n",
    "\n",
    "    #Restricciones\n",
    "    \n",
    "    print(\"CREANDO RESTRICCIONES\")\n",
    "    \n",
    "    for k,b,i,j in K:\n",
    "        if type(i) == str or type(j) == str:\n",
    "            continue\n",
    "        m.addConstr(\n",
    "            (u[j]  >= u[i] + (1 + n)*x[k,b,i,j] - n)\n",
    "        )\n",
    "    \n",
    "    m.addConstrs(\n",
    "        ( x.sum(k, m,\"O\"+str(k) ,\"*\")  <= 1 for k in range(1,n1+1) for m in M[k]) \n",
    "    )\n",
    "\n",
    "    m.addConstrs(\n",
    "        quicksum(x[k, m, j[0], \"D\"+str(p)]  for p in range(1,n2+1) for j in Corte_Entrada(\"D\"+str(p), At) ) <=1  for k in range(1,n1+1) for m in M[k]\n",
    "    )\n",
    "    \n",
    "    m.addConstrs(\n",
    "        ( x.sum(k, m,\"*\" ,i)  == y[k, m, i]  for k in range(1,n1+1) for m in M[k] for i in V) \n",
    "    ) \n",
    "    \n",
    "    m.addConstrs(\n",
    "        ( x.sum(k, m,\"*\",\"D\"+str(p) )  == y[k, m, \"D\"+str(p)] for k in range(1,n1+1) for m in M[k] for p in range(1,n2+1)) \n",
    "    )\n",
    "    \n",
    "    m.addConstrs(\n",
    "        ( x.sum(k, m, \"*\",s)  == x.sum(k, m ,s,\"*\") for k in range(1,n1+1) for m in M[k] for s in V)\n",
    "    )\n",
    "\n",
    "#     m.addConstrs(\n",
    "#         ( x.sum(k, \"*\",\"O\"+str(k),\"*\") <= len(M[k]) for k in range(1,n1+1))\n",
    "#     )\n",
    "    \n",
    "    m.addConstrs(\n",
    "        (a.sum(k, m, \"*\", p) <= Dem[p]*y[k, m, \"D\"+str(p)] for k in range(1,n1+1) for m in M[k] for p in range(1,1+n2))\n",
    "    )\n",
    "    \n",
    "    m.addConstrs(\n",
    "        (a.sum(\"*\", \"*\", i, \"*\") <= OF[i] for i in V )\n",
    "    )\n",
    "\n",
    "\n",
    "    m.addConstrs(\n",
    "        (a.sum(k, m,\"*\", \"*\") <= Q[k, m]  for k in range(1,n1+1) for m in M[k])\n",
    "    )\n",
    "\n",
    "    m.addConstrs(\n",
    "        (a[k, m, i, p]<= OF[i]*y[k, m, i] for p in range(1,n2+1)  for k in range(1,n1+1) for m in M[k] for i in V )\n",
    "    )\n",
    "\n",
    "    m.addConstrs(\n",
    "        (a.sum(\"*\", \"*\", \"*\", p) == Dem[p] for p in range(1,n2+1))\n",
    "    )\n",
    "\n",
    "    m.Params.MIPGap = gap\n",
    "    m.Params.TimeLimit= time\n",
    "    print(\"OPTIMIZE\")\n",
    "    \n",
    "    \n",
    "    if len(Autos)==0:\n",
    "        m.optimize()\n",
    "    else:\n",
    "        \n",
    "        print(\"ENTREEEEEEEEEEEEEEEEEEEEEEEEEEEEEEEEEEEEEE!\")\n",
    "        for auto in Autos:\n",
    "            #sum( [x[\"O\"+str(auto[0]), auto[1], \"O\"+str(auto[0]), i].Start for i in Corte_Salida_Nodo(\"O\"+str(auto[0]), A) ] ) = 1\n",
    "            #x[].Start  = 1\n",
    "            y[auto[0], auto[1], auto[2]].Start  = 1\n",
    "            \n",
    "        m.optimize()\n",
    "    \n",
    "    \n",
    "    \n",
    "    \n",
    "    \n",
    "    \n",
    "    print(\"-\"*20)\n",
    "\n",
    "    clasi = {}\n",
    "    par = {}\n",
    "    producto = {}\n",
    "    print(\"GUARDANDO SOLUCIONES\")\n",
    "    \n",
    "    try:\n",
    "        \n",
    "        if m.status == GRB.Status.TIME_LIMIT or  m.status == GRB.Status.OPTIMAL:\n",
    "            par = {\"Obj\":m.objval, \"GAP\":abs(m.objval-m.ObjBoundC) /abs(m.objval), \"Time\": m.Runtime}\n",
    "        # Recuperar los valores de las variables\n",
    "            vx = m.getAttr('x', x)\n",
    "            print('Arcos seleccionados:')\n",
    "            for (k,m1,i,j) in K:\n",
    "                if vx[k,m1,i,j] >= 0.99:\n",
    "                    print('Deposito {} usa el auto{}:= {} -> {}'.format(k,m1, i, j))\n",
    "                    if (\"O\"+str(k)+\"-\"+str(m1) in clasi.keys() )== False:\n",
    "                        clasi.update({\"O\"+str(k)+\"-\"+str(m1) : [(i,j)]})\n",
    "                    else:\n",
    "                        clasi[\"O\"+str(k)+\"-\"+str(m1)]  = clasi[\"O\"+str(k)+\"-\"+str(m1)] + [(i,j)]\n",
    "\n",
    "\n",
    "        print(\"-\"*20)\n",
    "\n",
    "        if m.status == GRB.Status.TIME_LIMIT or  m.status == GRB.Status.OPTIMAL:\n",
    "             for k in range (1,n1+1):\n",
    "                    for m1 in M[k]:\n",
    "                        for i in V :\n",
    "                            for d in range(1,1+n2):\n",
    "                                if a[k,m1,i,d].x>0:\n",
    "                                    c_prod = a[k,m1,i,d].x\n",
    "                                    if ((\"O\"+str(k),m1) in producto.keys() )== False:\n",
    "                                            producto.update({(\"O\"+str(k),m1): [(i, c_prod,d)] })\n",
    "                                    else:\n",
    "                                        producto[(\"O\"+str(k),m1)] = producto[(\"O\"+str(k),m1)] + [(i, c_prod,d)]\n",
    "                                    print(\"El auto {} del deposito {} recoge {} del producto en {} para {}\".format(m1,k,c_prod,i,d))\n",
    "\n",
    "        if m.status == GRB.Status.TIME_LIMIT or  m.status == GRB.Status.OPTIMAL:\n",
    "            for k in range (1,n1+1):\n",
    "                for m1 in M[k]: \n",
    "                    for j in V_D:\n",
    "                        if y[k,m1,j].x>0.99:\n",
    "                            print(\"el auto {} del deposito {} visita {}\".format(m1, k, j))\n",
    "    except:\n",
    "        print(\"TIME LIMIT!\")\n",
    "    \n",
    "    return clasi, producto, par"
   ]
  },
  {
   "cell_type": "markdown",
   "metadata": {},
   "source": [
    "## LECTURA Y RESOLUCIÓN DE LAS 52 INTANCIAS "
   ]
  },
  {
   "cell_type": "code",
   "execution_count": 7,
   "metadata": {},
   "outputs": [
    {
     "data": {
      "text/markdown": [
       "<span style=\"color: #ff0000\">5,11 y 17</span> "
      ],
      "text/plain": [
       "<IPython.core.display.Markdown object>"
      ]
     },
     "metadata": {},
     "output_type": "display_data"
    },
    {
     "name": "stdout",
     "output_type": "stream",
     "text": [
      "132\n"
     ]
    },
    {
     "data": {
      "text/markdown": [
       "<span style=\"color: #ff0000\">5,14 y 17</span> "
      ],
      "text/plain": [
       "<IPython.core.display.Markdown object>"
      ]
     },
     "metadata": {},
     "output_type": "display_data"
    },
    {
     "name": "stdout",
     "output_type": "stream",
     "text": [
      "146\n"
     ]
    },
    {
     "data": {
      "text/markdown": [
       "<span style=\"color: #ff0000\">5,17 y 2</span> "
      ],
      "text/plain": [
       "<IPython.core.display.Markdown object>"
      ]
     },
     "metadata": {},
     "output_type": "display_data"
    },
    {
     "name": "stdout",
     "output_type": "stream",
     "text": [
      "95\n"
     ]
    },
    {
     "data": {
      "text/markdown": [
       "<span style=\"color: #ff0000\">5,18 y 6</span> "
      ],
      "text/plain": [
       "<IPython.core.display.Markdown object>"
      ]
     },
     "metadata": {},
     "output_type": "display_data"
    },
    {
     "name": "stdout",
     "output_type": "stream",
     "text": [
      "113\n"
     ]
    },
    {
     "data": {
      "text/markdown": [
       "<span style=\"color: #ff0000\">10,11 y 10</span> "
      ],
      "text/plain": [
       "<IPython.core.display.Markdown object>"
      ]
     },
     "metadata": {},
     "output_type": "display_data"
    },
    {
     "name": "stdout",
     "output_type": "stream",
     "text": [
      "224\n"
     ]
    },
    {
     "data": {
      "text/markdown": [
       "<span style=\"color: #ff0000\">10,15 y 4</span> "
      ],
      "text/plain": [
       "<IPython.core.display.Markdown object>"
      ]
     },
     "metadata": {},
     "output_type": "display_data"
    },
    {
     "name": "stdout",
     "output_type": "stream",
     "text": [
      "209\n"
     ]
    },
    {
     "data": {
      "text/markdown": [
       "<span style=\"color: #ff0000\">10,17 y 9</span> "
      ],
      "text/plain": [
       "<IPython.core.display.Markdown object>"
      ]
     },
     "metadata": {},
     "output_type": "display_data"
    },
    {
     "name": "stdout",
     "output_type": "stream",
     "text": [
      "269\n"
     ]
    },
    {
     "data": {
      "text/markdown": [
       "<span style=\"color: #ff0000\">10,21 y 11</span> "
      ],
      "text/plain": [
       "<IPython.core.display.Markdown object>"
      ]
     },
     "metadata": {},
     "output_type": "display_data"
    },
    {
     "name": "stdout",
     "output_type": "stream",
     "text": [
      "314\n"
     ]
    },
    {
     "data": {
      "text/markdown": [
       "<span style=\"color: #ff0000\">15,6 y 5</span> "
      ],
      "text/plain": [
       "<IPython.core.display.Markdown object>"
      ]
     },
     "metadata": {},
     "output_type": "display_data"
    },
    {
     "name": "stdout",
     "output_type": "stream",
     "text": [
      "256\n"
     ]
    },
    {
     "data": {
      "text/markdown": [
       "<span style=\"color: #ff0000\">15,7 y 6</span> "
      ],
      "text/plain": [
       "<IPython.core.display.Markdown object>"
      ]
     },
     "metadata": {},
     "output_type": "display_data"
    },
    {
     "name": "stdout",
     "output_type": "stream",
     "text": [
      "278\n"
     ]
    },
    {
     "data": {
      "text/markdown": [
       "<span style=\"color: #ff0000\">15,18 y 7</span> "
      ],
      "text/plain": [
       "<IPython.core.display.Markdown object>"
      ]
     },
     "metadata": {},
     "output_type": "display_data"
    },
    {
     "name": "stdout",
     "output_type": "stream",
     "text": [
      "425\n"
     ]
    },
    {
     "data": {
      "text/markdown": [
       "<span style=\"color: #ff0000\">15,22 y 9</span> "
      ],
      "text/plain": [
       "<IPython.core.display.Markdown object>"
      ]
     },
     "metadata": {},
     "output_type": "display_data"
    },
    {
     "name": "stdout",
     "output_type": "stream",
     "text": [
      "500\n"
     ]
    },
    {
     "data": {
      "text/markdown": [
       "<span style=\"color: #ff0000\">20,12 y 2</span> "
      ],
      "text/plain": [
       "<IPython.core.display.Markdown object>"
      ]
     },
     "metadata": {},
     "output_type": "display_data"
    },
    {
     "name": "stdout",
     "output_type": "stream",
     "text": [
      "428\n"
     ]
    },
    {
     "data": {
      "text/markdown": [
       "<span style=\"color: #ff0000\">20,13 y 8</span> "
      ],
      "text/plain": [
       "<IPython.core.display.Markdown object>"
      ]
     },
     "metadata": {},
     "output_type": "display_data"
    },
    {
     "name": "stdout",
     "output_type": "stream",
     "text": [
      "543\n"
     ]
    },
    {
     "data": {
      "text/markdown": [
       "<span style=\"color: #ff0000\">20,19 y 10</span> "
      ],
      "text/plain": [
       "<IPython.core.display.Markdown object>"
      ]
     },
     "metadata": {},
     "output_type": "display_data"
    },
    {
     "name": "stdout",
     "output_type": "stream",
     "text": [
      "678\n"
     ]
    },
    {
     "data": {
      "text/markdown": [
       "<span style=\"color: #ff0000\">20,24 y 4</span> "
      ],
      "text/plain": [
       "<IPython.core.display.Markdown object>"
      ]
     },
     "metadata": {},
     "output_type": "display_data"
    },
    {
     "name": "stdout",
     "output_type": "stream",
     "text": [
      "665\n"
     ]
    },
    {
     "data": {
      "text/markdown": [
       "<span style=\"color: #ff0000\">25,11 y 12</span> "
      ],
      "text/plain": [
       "<IPython.core.display.Markdown object>"
      ]
     },
     "metadata": {},
     "output_type": "display_data"
    },
    {
     "name": "stdout",
     "output_type": "stream",
     "text": [
      "784\n"
     ]
    },
    {
     "data": {
      "text/markdown": [
       "<span style=\"color: #ff0000\">25,16 y 9</span> "
      ],
      "text/plain": [
       "<IPython.core.display.Markdown object>"
      ]
     },
     "metadata": {},
     "output_type": "display_data"
    },
    {
     "name": "stdout",
     "output_type": "stream",
     "text": [
      "830\n"
     ]
    },
    {
     "data": {
      "text/markdown": [
       "<span style=\"color: #ff0000\">25,17 y 17</span> "
      ],
      "text/plain": [
       "<IPython.core.display.Markdown object>"
      ]
     },
     "metadata": {},
     "output_type": "display_data"
    },
    {
     "name": "stdout",
     "output_type": "stream",
     "text": [
      "1023\n"
     ]
    },
    {
     "data": {
      "text/markdown": [
       "<span style=\"color: #ff0000\">25,24 y 17</span> "
      ],
      "text/plain": [
       "<IPython.core.display.Markdown object>"
      ]
     },
     "metadata": {},
     "output_type": "display_data"
    },
    {
     "name": "stdout",
     "output_type": "stream",
     "text": [
      "1173\n"
     ]
    },
    {
     "data": {
      "text/markdown": [
       "<span style=\"color: #ff0000\">30,10 y 2</span> "
      ],
      "text/plain": [
       "<IPython.core.display.Markdown object>"
      ]
     },
     "metadata": {},
     "output_type": "display_data"
    },
    {
     "name": "stdout",
     "output_type": "stream",
     "text": [
      "745\n"
     ]
    },
    {
     "data": {
      "text/markdown": [
       "<span style=\"color: #ff0000\">30,15 y 3</span> "
      ],
      "text/plain": [
       "<IPython.core.display.Markdown object>"
      ]
     },
     "metadata": {},
     "output_type": "display_data"
    },
    {
     "name": "stdout",
     "output_type": "stream",
     "text": [
      "899\n"
     ]
    },
    {
     "data": {
      "text/markdown": [
       "<span style=\"color: #ff0000\">30,20 y 12</span> "
      ],
      "text/plain": [
       "<IPython.core.display.Markdown object>"
      ]
     },
     "metadata": {},
     "output_type": "display_data"
    },
    {
     "name": "stdout",
     "output_type": "stream",
     "text": [
      "1251\n"
     ]
    },
    {
     "data": {
      "text/markdown": [
       "<span style=\"color: #ff0000\">30,24 y 16</span> "
      ],
      "text/plain": [
       "<IPython.core.display.Markdown object>"
      ]
     },
     "metadata": {},
     "output_type": "display_data"
    },
    {
     "name": "stdout",
     "output_type": "stream",
     "text": [
      "1459\n"
     ]
    },
    {
     "data": {
      "text/markdown": [
       "<span style=\"color: #ff0000\">35,6 y 15</span> "
      ],
      "text/plain": [
       "<IPython.core.display.Markdown object>"
      ]
     },
     "metadata": {},
     "output_type": "display_data"
    },
    {
     "name": "stdout",
     "output_type": "stream",
     "text": [
      "1215\n"
     ]
    },
    {
     "data": {
      "text/markdown": [
       "<span style=\"color: #ff0000\">35,15 y 2</span> "
      ],
      "text/plain": [
       "<IPython.core.display.Markdown object>"
      ]
     },
     "metadata": {},
     "output_type": "display_data"
    },
    {
     "name": "stdout",
     "output_type": "stream",
     "text": [
      "1102\n"
     ]
    },
    {
     "data": {
      "text/markdown": [
       "<span style=\"color: #ff0000\">35,19 y 5</span> "
      ],
      "text/plain": [
       "<IPython.core.display.Markdown object>"
      ]
     },
     "metadata": {},
     "output_type": "display_data"
    },
    {
     "name": "stdout",
     "output_type": "stream",
     "text": [
      "1316\n"
     ]
    },
    {
     "data": {
      "text/markdown": [
       "<span style=\"color: #ff0000\">35,23 y 19</span> "
      ],
      "text/plain": [
       "<IPython.core.display.Markdown object>"
      ]
     },
     "metadata": {},
     "output_type": "display_data"
    },
    {
     "name": "stdout",
     "output_type": "stream",
     "text": [
      "1851\n"
     ]
    },
    {
     "data": {
      "text/markdown": [
       "<span style=\"color: #ff0000\">40,6 y 4</span> "
      ],
      "text/plain": [
       "<IPython.core.display.Markdown object>"
      ]
     },
     "metadata": {},
     "output_type": "display_data"
    },
    {
     "name": "stdout",
     "output_type": "stream",
     "text": [
      "1106\n"
     ]
    },
    {
     "data": {
      "text/markdown": [
       "<span style=\"color: #ff0000\">40,7 y 8</span> "
      ],
      "text/plain": [
       "<IPython.core.display.Markdown object>"
      ]
     },
     "metadata": {},
     "output_type": "display_data"
    },
    {
     "name": "stdout",
     "output_type": "stream",
     "text": [
      "1270\n"
     ]
    },
    {
     "data": {
      "text/markdown": [
       "<span style=\"color: #ff0000\">40,13 y 8</span> "
      ],
      "text/plain": [
       "<IPython.core.display.Markdown object>"
      ]
     },
     "metadata": {},
     "output_type": "display_data"
    },
    {
     "name": "stdout",
     "output_type": "stream",
     "text": [
      "1473\n"
     ]
    },
    {
     "data": {
      "text/markdown": [
       "<span style=\"color: #ff0000\">40,15 y 15</span> "
      ],
      "text/plain": [
       "<IPython.core.display.Markdown object>"
      ]
     },
     "metadata": {},
     "output_type": "display_data"
    },
    {
     "name": "stdout",
     "output_type": "stream",
     "text": [
      "1788\n"
     ]
    },
    {
     "data": {
      "text/markdown": [
       "<span style=\"color: #ff0000\">45,14 y 13</span> "
      ],
      "text/plain": [
       "<IPython.core.display.Markdown object>"
      ]
     },
     "metadata": {},
     "output_type": "display_data"
    },
    {
     "name": "stdout",
     "output_type": "stream",
     "text": [
      "2005\n"
     ]
    },
    {
     "data": {
      "text/markdown": [
       "<span style=\"color: #ff0000\">45,19 y 9</span> "
      ],
      "text/plain": [
       "<IPython.core.display.Markdown object>"
      ]
     },
     "metadata": {},
     "output_type": "display_data"
    },
    {
     "name": "stdout",
     "output_type": "stream",
     "text": [
      "2045\n"
     ]
    },
    {
     "data": {
      "text/markdown": [
       "<span style=\"color: #ff0000\">45,23 y 14</span> "
      ],
      "text/plain": [
       "<IPython.core.display.Markdown object>"
      ]
     },
     "metadata": {},
     "output_type": "display_data"
    },
    {
     "name": "stdout",
     "output_type": "stream",
     "text": [
      "2395\n"
     ]
    },
    {
     "data": {
      "text/markdown": [
       "<span style=\"color: #ff0000\">45,25 y 15</span> "
      ],
      "text/plain": [
       "<IPython.core.display.Markdown object>"
      ]
     },
     "metadata": {},
     "output_type": "display_data"
    },
    {
     "name": "stdout",
     "output_type": "stream",
     "text": [
      "2508\n"
     ]
    },
    {
     "data": {
      "text/markdown": [
       "<span style=\"color: #ff0000\">50,13 y 13</span> "
      ],
      "text/plain": [
       "<IPython.core.display.Markdown object>"
      ]
     },
     "metadata": {},
     "output_type": "display_data"
    },
    {
     "name": "stdout",
     "output_type": "stream",
     "text": [
      "2319\n"
     ]
    },
    {
     "data": {
      "text/markdown": [
       "<span style=\"color: #ff0000\">50,14 y 14</span> "
      ],
      "text/plain": [
       "<IPython.core.display.Markdown object>"
      ]
     },
     "metadata": {},
     "output_type": "display_data"
    },
    {
     "name": "stdout",
     "output_type": "stream",
     "text": [
      "2403\n"
     ]
    },
    {
     "data": {
      "text/markdown": [
       "<span style=\"color: #ff0000\">50,16 y 13</span> "
      ],
      "text/plain": [
       "<IPython.core.display.Markdown object>"
      ]
     },
     "metadata": {},
     "output_type": "display_data"
    },
    {
     "name": "stdout",
     "output_type": "stream",
     "text": [
      "2446\n"
     ]
    },
    {
     "data": {
      "text/markdown": [
       "<span style=\"color: #ff0000\">50,21 y 10</span> "
      ],
      "text/plain": [
       "<IPython.core.display.Markdown object>"
      ]
     },
     "metadata": {},
     "output_type": "display_data"
    },
    {
     "name": "stdout",
     "output_type": "stream",
     "text": [
      "2524\n"
     ]
    },
    {
     "data": {
      "text/markdown": [
       "<span style=\"color: #ff0000\">55,9 y 6</span> "
      ],
      "text/plain": [
       "<IPython.core.display.Markdown object>"
      ]
     },
     "metadata": {},
     "output_type": "display_data"
    },
    {
     "name": "stdout",
     "output_type": "stream",
     "text": [
      "2160\n"
     ]
    },
    {
     "data": {
      "text/markdown": [
       "<span style=\"color: #ff0000\">55,12 y 9</span> "
      ],
      "text/plain": [
       "<IPython.core.display.Markdown object>"
      ]
     },
     "metadata": {},
     "output_type": "display_data"
    },
    {
     "name": "stdout",
     "output_type": "stream",
     "text": [
      "2447\n"
     ]
    },
    {
     "data": {
      "text/markdown": [
       "<span style=\"color: #ff0000\">55,23 y 9</span> "
      ],
      "text/plain": [
       "<IPython.core.display.Markdown object>"
      ]
     },
     "metadata": {},
     "output_type": "display_data"
    },
    {
     "name": "stdout",
     "output_type": "stream",
     "text": [
      "2960\n"
     ]
    },
    {
     "data": {
      "text/markdown": [
       "<span style=\"color: #ff0000\">55,24 y 15</span> "
      ],
      "text/plain": [
       "<IPython.core.display.Markdown object>"
      ]
     },
     "metadata": {},
     "output_type": "display_data"
    },
    {
     "name": "stdout",
     "output_type": "stream",
     "text": [
      "3296\n"
     ]
    },
    {
     "data": {
      "text/markdown": [
       "<span style=\"color: #ff0000\">60,10 y 6</span> "
      ],
      "text/plain": [
       "<IPython.core.display.Markdown object>"
      ]
     },
     "metadata": {},
     "output_type": "display_data"
    },
    {
     "name": "stdout",
     "output_type": "stream",
     "text": [
      "2553\n"
     ]
    },
    {
     "data": {
      "text/markdown": [
       "<span style=\"color: #ff0000\">60,17 y 20</span> "
      ],
      "text/plain": [
       "<IPython.core.display.Markdown object>"
      ]
     },
     "metadata": {},
     "output_type": "display_data"
    },
    {
     "name": "stdout",
     "output_type": "stream",
     "text": [
      "3638\n"
     ]
    },
    {
     "data": {
      "text/markdown": [
       "<span style=\"color: #ff0000\">60,18 y 2</span> "
      ],
      "text/plain": [
       "<IPython.core.display.Markdown object>"
      ]
     },
     "metadata": {},
     "output_type": "display_data"
    },
    {
     "name": "stdout",
     "output_type": "stream",
     "text": [
      "2762\n"
     ]
    },
    {
     "data": {
      "text/markdown": [
       "<span style=\"color: #ff0000\">60,23 y 18</span> "
      ],
      "text/plain": [
       "<IPython.core.display.Markdown object>"
      ]
     },
     "metadata": {},
     "output_type": "display_data"
    },
    {
     "name": "stdout",
     "output_type": "stream",
     "text": [
      "3837\n"
     ]
    },
    {
     "data": {
      "text/markdown": [
       "<span style=\"color: #ff0000\">65,15 y 9</span> "
      ],
      "text/plain": [
       "<IPython.core.display.Markdown object>"
      ]
     },
     "metadata": {},
     "output_type": "display_data"
    },
    {
     "name": "stdout",
     "output_type": "stream",
     "text": [
      "3369\n"
     ]
    },
    {
     "data": {
      "text/markdown": [
       "<span style=\"color: #ff0000\">65,19 y 12</span> "
      ],
      "text/plain": [
       "<IPython.core.display.Markdown object>"
      ]
     },
     "metadata": {},
     "output_type": "display_data"
    },
    {
     "name": "stdout",
     "output_type": "stream",
     "text": [
      "3759\n"
     ]
    },
    {
     "data": {
      "text/markdown": [
       "<span style=\"color: #ff0000\">65,22 y 15</span> "
      ],
      "text/plain": [
       "<IPython.core.display.Markdown object>"
      ]
     },
     "metadata": {},
     "output_type": "display_data"
    },
    {
     "name": "stdout",
     "output_type": "stream",
     "text": [
      "4088\n"
     ]
    },
    {
     "data": {
      "text/markdown": [
       "<span style=\"color: #ff0000\">65,25 y 19</span> "
      ],
      "text/plain": [
       "<IPython.core.display.Markdown object>"
      ]
     },
     "metadata": {},
     "output_type": "display_data"
    },
    {
     "name": "stdout",
     "output_type": "stream",
     "text": [
      "4465\n"
     ]
    }
   ],
   "source": [
    "\n",
    "from IPython.display import Markdown\n",
    "\n",
    "\n",
    "df_instancias = pd.read_excel(\"InstanciasFinal.xlsx\",sheet_name= \"Sheet1\", header=0, index_col=[0,1,2])\n",
    "\n",
    "\n",
    "Instancias = {5: {11: [17], 14: [17], 17: [2], 18: [6]},\n",
    " 10: {11: [10], 15: [4], 17: [9], 21: [11]},\n",
    " 15: {6: [5], 7: [6], 18: [7], 22: [9]},\n",
    " 20: {12: [2], 13: [8], 19: [10], 24: [4]},\n",
    " 25: {11: [12], 16: [9], 17: [17], 24: [17]},\n",
    " 30: {10: [2], 15: [3], 20: [12], 24: [16]},\n",
    " 35: {6: [15], 15: [2], 19: [5], 23: [19]},\n",
    " 40: {6: [4], 7: [8], 13: [8], 15: [15]},\n",
    " 45: {14: [13], 19: [9], 23: [14], 25: [15]},\n",
    " 50: {13: [13], 14: [14], 16: [13], 21: [10]},\n",
    " 55: {9: [6], 12: [9], 23: [9], 24: [15]},\n",
    " 60: {10: [6], 17: [20], 18: [2], 23: [18]},\n",
    " 65: {15: [9], 19: [12], 22: [15], 25: [19]}}\n",
    "    \n",
    "\n",
    "for j in df_instancias.columns:\n",
    "    s = df_instancias[j]\n",
    "    for m in list(Instancias.keys()):\n",
    "        for i in list(Instancias[m].keys()):\n",
    "            for k in Instancias[m][i]:\n",
    "                s[m,i,k] = list([int(s[m,i,k].split(\",\")[0][1:]), int(s[m,i,k].split(\",\")[1][:-1])+1]) #mas 1 por como se generan los #aleatorios\n",
    "\n",
    "\n",
    "df_primeras = df_instancias\n",
    "\n",
    "prob = 0.5\n",
    "\n",
    "DatosInstancias3 = {}\n",
    "for n in list(Instancias.keys()):\n",
    "    V = tuplelist(range(1,n+1))\n",
    "    np.random.seed(1)\n",
    "    a1 = {(i,j): np.random.randint(35,151) for i in V for j in V if (i!=j and np.random.random()<prob)}\n",
    "\n",
    "    for i,j in list(a1.keys()):\n",
    "        if (j,i) in list(a1.keys()) and i<j:\n",
    "            a1[j,i] = a1[i,j]\n",
    "\n",
    "    a = {**a1}\n",
    "    A = list(a.keys())\n",
    "    for n1 in list(Instancias[n].keys()):\n",
    "        O = [\"O\"+str(i) for i in range(1,n1+1)]\n",
    "        np.random.seed(1)\n",
    "        Ao = [ (i,j) for i in O for j in V if np.random.random()<0.85 ]\n",
    "        np.random.seed(1)\n",
    "        b1 = {(i,j): np.random.randint(35,150) for (i,j) in Ao }\n",
    "        V_O = [i for i in range(1,n+1)]+O\n",
    "        \n",
    "        for n2 in Instancias[n][n1]:\n",
    "            display (Markdown('<span style=\"color: #ff0000\">{},{} y {}</span> '.format(n,n1,n2)))\n",
    "            np.random.seed(1)\n",
    "            #Creación de D\n",
    "            D = [\"D\"+str(i) for i in range(1,n2+1)]\n",
    "            np.random.seed(1)\n",
    "            Ad = [ (i,j) for i in V for j in D if np.random.random()<0.85 ]\n",
    "            np.random.seed(1)\n",
    "            b2 = {(i,j): np.random.randint(35,150)  for (i,j) in Ad }\n",
    "            V_D = [i for i in range(1,n+1)]+D\n",
    "\n",
    "            At,c= multidict({**a, **b1, **b2})\n",
    "            #Vehículos\n",
    "            np.random.seed(1)\n",
    "            M = {k: [i for i in range(1,\n",
    "                                                  np.random.randint(df_primeras.loc[n].loc[n1][\"Rango de \\nVehículo para cada deposito\"][n2][0]+1,\n",
    "                                                                    df_primeras.loc[n].loc[n1][\"Rango de \\nVehículo para cada deposito\"][n2][1]+1))] for k in range(1,n1+1) }\n",
    "            np.random.seed(1)\n",
    "            c_M = { (k, m):  np.random.randint(350,500) for k in range(1,n1+1) for m in M[k]}\n",
    "            \n",
    "            \n",
    "            \n",
    "            \n",
    "            #Creación K\n",
    "            K = []\n",
    "            for k in range(1,n1+1):\n",
    "                for m in M[k]:\n",
    "                    K = K + [(k, m, j[0], j[1]) for j in Ao if \"O\"+str(k) == j[0]  ]\n",
    "                    K = K + [(k,m,i,j) for (i,j) in A+Ad]\n",
    "                    \n",
    "            #Capacidades de los vehículos\n",
    "            np.random.seed(1)\n",
    "            Q = {(k, m) : np.random.randint(df_primeras.loc[n].loc[n1][\"Rango de \\ncapacidad\"][n2][0], df_primeras.loc[n].loc[n1][\"Rango de \\ncapacidad\"][n2][1]) for k in range(1,n1+1) for m in M[k]}\n",
    "\n",
    "            #Oferta\n",
    "            np.random.seed(1)\n",
    "            OF = {i: np.random.randint(df_primeras.loc[n].loc[n1][\"Oferta para\\n cada lugar de abastecimiento\"][n2][0], df_primeras.loc[n].loc[n1][\"Oferta para\\n cada lugar de abastecimiento\"][n2][1]) for i in V}\n",
    "\n",
    "            #Demanda\n",
    "            np.random.seed(1)\n",
    "            Dem = {p :np.random.randint(df_primeras.loc[n].loc[n1][\"Rango Demanda\"][n2][0], df_primeras.loc[n].loc[n1][\"Rango Demanda\"][n2][1]) for p in range(1,n2+1) }\n",
    "\n",
    "            print(len(At))        \n",
    "            print(\"Modelo1\")\n",
    "            Ruta1, Pro1, Par1 = Trabajo()\n",
    "            \n",
    "            print(\"Modelo2\")\n",
    "            Ruta2, Pro2, Par2 = Trabajo1()\n",
    "            \n",
    "            DatosInstancias3.update({(n,n1,n2): [c,M,c_M, Q, OF, Dem, Ruta1, Pro1, Par1, Ruta2, Pro2, Par2] })\n"
   ]
  },
  {
   "cell_type": "markdown",
   "metadata": {},
   "source": [
    "## IMPRIMIR INDICADORES PARA COMPARAR MODELOS"
   ]
  },
  {
   "cell_type": "code",
   "execution_count": 14,
   "metadata": {},
   "outputs": [
    {
     "name": "stdout",
     "output_type": "stream",
     "text": [
      "________________________________________________________________________________\n",
      "INSTANCIA (5, 11, 17)\n",
      "Para el modelo 1\n",
      "{'Obj': 18252.0, 'GAP': 0.030950213438445572, 'Time': 3600.240955352783}\n",
      "Para el modelo 2\n",
      "{'Obj': 18252.0, 'GAP': 0.10923125833652335, 'Time': 3600.107135772705}\n",
      "________________________________________________________________________________\n",
      "INSTANCIA (5, 14, 17)\n",
      "Para el modelo 1\n",
      "{'Obj': 18053.0, 'GAP': 0.16913913994777016, 'Time': 3600.1114711761475}\n",
      "Para el modelo 2\n",
      "{'Obj': 18053.0, 'GAP': 0.12014844632187625, 'Time': 3600.164560317993}\n",
      "________________________________________________________________________________\n",
      "INSTANCIA (5, 17, 2)\n",
      "Para el modelo 1\n",
      "{'Obj': 6903.0, 'GAP': 0.0, 'Time': 2131.6100425720215}\n",
      "Para el modelo 2\n",
      "{'Obj': 6903.0, 'GAP': 0.0, 'Time': 218.75473976135254}\n",
      "________________________________________________________________________________\n",
      "INSTANCIA (5, 18, 6)\n",
      "Para el modelo 1\n",
      "{'Obj': 9480.0, 'GAP': 0.02954470565455325, 'Time': 3600.0944061279297}\n",
      "Para el modelo 2\n",
      "{'Obj': 9478.0, 'GAP': 0.028174087394470086, 'Time': 3600.1113719940186}\n",
      "________________________________________________________________________________\n",
      "INSTANCIA (10, 11, 10)\n",
      "Para el modelo 1\n",
      "{'Obj': 9094.0, 'GAP': 0.0, 'Time': 2042.1681022644043}\n",
      "Para el modelo 2\n",
      "{'Obj': 9094.0, 'GAP': 0.0, 'Time': 237.84974479675293}\n",
      "________________________________________________________________________________\n",
      "INSTANCIA (10, 15, 4)\n",
      "Para el modelo 1\n",
      "{'Obj': 8335.0, 'GAP': 0.18253708464932375, 'Time': 3600.107410430908}\n",
      "Para el modelo 2\n",
      "{'Obj': 8334.0, 'GAP': 0.0, 'Time': 716.5547561645508}\n",
      "________________________________________________________________________________\n",
      "INSTANCIA (10, 17, 9)\n",
      "Para el modelo 1\n",
      "{'Obj': 9123.0, 'GAP': 0.1771219028397267, 'Time': 3600.0836544036865}\n",
      "Para el modelo 2\n",
      "{'Obj': 9123.0, 'GAP': 0.1228206458429294, 'Time': 3600.067995071411}\n",
      "________________________________________________________________________________\n",
      "INSTANCIA (10, 21, 11)\n",
      "Para el modelo 1\n",
      "{'Obj': 10775.0, 'GAP': 0.1020478928808334, 'Time': 3600.1075534820557}\n",
      "Para el modelo 2\n",
      "{'Obj': 10796.0, 'GAP': 0.08681148481637292, 'Time': 3600.1334896087646}\n",
      "________________________________________________________________________________\n",
      "INSTANCIA (15, 6, 5)\n",
      "Para el modelo 1\n",
      "{'Obj': 5419.0, 'GAP': 0.009372628854396391, 'Time': 3600.115421295166}\n",
      "Para el modelo 2\n",
      "{'Obj': 5419.0, 'GAP': 0.008500570678950726, 'Time': 3600.063159942627}\n",
      "________________________________________________________________________________\n",
      "INSTANCIA (15, 7, 6)\n",
      "Para el modelo 1\n",
      "{'Obj': 5043.0, 'GAP': 0.028896008914224895, 'Time': 3600.056909561157}\n",
      "Para el modelo 2\n",
      "{'Obj': 5073.0, 'GAP': 0.20372075927146296, 'Time': 3600.064552307129}\n",
      "________________________________________________________________________________\n",
      "INSTANCIA (15, 18, 7)\n",
      "Para el modelo 1\n",
      "{'Obj': 10454.0, 'GAP': 0.21625244665804072, 'Time': 3600.094783782959}\n",
      "Para el modelo 2\n",
      "{'Obj': 10443.0, 'GAP': 0.10064885517623466, 'Time': 3600.163772583008}\n",
      "________________________________________________________________________________\n",
      "INSTANCIA (15, 22, 9)\n",
      "Para el modelo 1\n",
      "{'Obj': 13701.0, 'GAP': 0.24147768304264186, 'Time': 3600.121259689331}\n",
      "Para el modelo 2\n",
      "{'Obj': 13708.0, 'GAP': 0.08520674630513618, 'Time': 3600.1612796783447}\n",
      "________________________________________________________________________________\n",
      "INSTANCIA (20, 12, 2)\n",
      "Para el modelo 1\n",
      "{'Obj': 5278.0, 'GAP': 0.02382748997907353, 'Time': 3600.08669090271}\n",
      "Para el modelo 2\n",
      "{'Obj': 5287.0, 'GAP': 0.032049168299453534, 'Time': 3600.079839706421}\n",
      "________________________________________________________________________________\n",
      "INSTANCIA (20, 13, 8)\n",
      "Para el modelo 1\n",
      "{'Obj': 8266.0, 'GAP': 0.21163516652453654, 'Time': 3600.1927375793457}\n",
      "Para el modelo 2\n",
      "{'Obj': 8229.0, 'GAP': 0.22780200313085217, 'Time': 3600.157518386841}\n",
      "________________________________________________________________________________\n",
      "INSTANCIA (20, 19, 10)\n",
      "Para el modelo 1\n",
      "{'Obj': 9992.0, 'GAP': 0.19083456936753115, 'Time': 3600.117712020874}\n",
      "Para el modelo 2\n",
      "{'Obj': 9997.0, 'GAP': 0.1616977591241265, 'Time': 3600.126028060913}\n",
      "________________________________________________________________________________\n",
      "INSTANCIA (20, 24, 4)\n",
      "Para el modelo 1\n",
      "{'Obj': 10457.0, 'GAP': 0.03928965419027726, 'Time': 3600.0916481018066}\n",
      "Para el modelo 2\n",
      "{'Obj': 10427.0, 'GAP': 0.041451236323750654, 'Time': 3600.131498336792}\n",
      "________________________________________________________________________________\n",
      "INSTANCIA (25, 11, 12)\n",
      "Para el modelo 1\n",
      "{'Obj': 12040.0, 'GAP': 0.1571081039232546, 'Time': 3600.112325668335}\n",
      "Para el modelo 2\n",
      "{'Obj': 12039.0, 'GAP': 0.003387656879730232, 'Time': 3600.0913257598877}\n",
      "________________________________________________________________________________\n",
      "INSTANCIA (25, 16, 9)\n",
      "Para el modelo 1\n",
      "{'Obj': 9515.0, 'GAP': 0.25987717546527894, 'Time': 3600.106023788452}\n",
      "Para el modelo 2\n",
      "{'Obj': 9508.0, 'GAP': 0.23937992497769273, 'Time': 3600.0970821380615}\n",
      "________________________________________________________________________________\n",
      "INSTANCIA (25, 17, 17)\n",
      "Para el modelo 1\n",
      "{'Obj': 16763.0, 'GAP': 0.15452540981969037, 'Time': 3600.206609725952}\n",
      "Para el modelo 2\n",
      "{'Obj': 16834.0, 'GAP': 0.15795242186248254, 'Time': 3600.3077697753906}\n",
      "________________________________________________________________________________\n",
      "INSTANCIA (25, 24, 17)\n",
      "Para el modelo 1\n",
      "{'Obj': 17185.0, 'GAP': 0.17329593806261034, 'Time': 3600.228446960449}\n",
      "Para el modelo 2\n",
      "{'Obj': 17183.0, 'GAP': 0.04829302525736621, 'Time': 3600.418535232544}\n",
      "________________________________________________________________________________\n",
      "INSTANCIA (30, 10, 2)\n",
      "Para el modelo 1\n",
      "{'Obj': 4603.0, 'GAP': 0.01937289885817674, 'Time': 3600.098669052124}\n",
      "Para el modelo 2\n",
      "{'Obj': 4625.0, 'GAP': 0.030075574762521807, 'Time': 3600.1454277038574}\n",
      "________________________________________________________________________________\n",
      "INSTANCIA (30, 15, 3)\n",
      "Para el modelo 1\n",
      "{'Obj': 8197.0, 'GAP': 0.08352498861802284, 'Time': 3600.096212387085}\n",
      "Para el modelo 2\n",
      "{'Obj': 8161.0, 'GAP': 0.031345376226065674, 'Time': 3600.059196472168}\n",
      "________________________________________________________________________________\n",
      "INSTANCIA (30, 20, 12)\n",
      "Para el modelo 1\n",
      "{'Obj': 12637.0, 'GAP': 0.2474777864870094, 'Time': 3600.4753093719482}\n",
      "Para el modelo 2\n",
      "{'Obj': 12666.0, 'GAP': 0.250776052031105, 'Time': 3600.155336380005}\n",
      "________________________________________________________________________________\n",
      "INSTANCIA (30, 24, 16)\n",
      "Para el modelo 1\n",
      "{'Obj': 15537.0, 'GAP': 0.37446298873602574, 'Time': 3600.1839637756348}\n",
      "Para el modelo 2\n",
      "{'Obj': 15491.0, 'GAP': 0.005487057000839197, 'Time': 3601.6414375305176}\n",
      "________________________________________________________________________________\n",
      "INSTANCIA (35, 6, 15)\n",
      "Para el modelo 1\n",
      "{'Obj': 12577.0, 'GAP': 0.34787628539063065, 'Time': 3600.1893100738525}\n",
      "Para el modelo 2\n",
      "{'Obj': 12606.0, 'GAP': 0.34948792750523455, 'Time': 3600.2940673828125}\n",
      "________________________________________________________________________________\n",
      "INSTANCIA (35, 15, 2)\n",
      "Para el modelo 1\n",
      "{'Obj': 6663.0, 'GAP': 0.01340592276674948, 'Time': 3600.319076538086}\n",
      "Para el modelo 2\n",
      "{'Obj': 6665.0, 'GAP': 0.0465786438641738, 'Time': 3600.759382247925}\n",
      "________________________________________________________________________________\n",
      "INSTANCIA (35, 19, 5)\n",
      "Para el modelo 1\n",
      "{'Obj': 10546.0, 'GAP': 0.1631302520834218, 'Time': 3600.1391105651855}\n",
      "Para el modelo 2\n",
      "{'Obj': 10554.0, 'GAP': 0.16851908566648438, 'Time': 3600.1712436676025}\n",
      "________________________________________________________________________________\n",
      "INSTANCIA (35, 23, 19)\n",
      "Para el modelo 1\n",
      "{'Obj': 15028.0, 'GAP': 0.34946748620037404, 'Time': 3600.223066329956}\n",
      "Para el modelo 2\n",
      "{'Obj': 15082.0, 'GAP': 0.351960225201493, 'Time': 3600.2163619995117}\n",
      "________________________________________________________________________________\n",
      "INSTANCIA (40, 6, 4)\n",
      "Para el modelo 1\n",
      "{'Obj': 5411.0, 'GAP': 0.0039523930138614365, 'Time': 3600.101589202881}\n",
      "Para el modelo 2\n",
      "{'Obj': 5428.0, 'GAP': 0.006806556341527168, 'Time': 3600.1951541900635}\n",
      "________________________________________________________________________________\n",
      "INSTANCIA (40, 7, 8)\n",
      "Para el modelo 1\n",
      "{'Obj': 9402.0, 'GAP': 0.25475730653096723, 'Time': 3600.0989665985107}\n",
      "Para el modelo 2\n",
      "{'Obj': 9553.0, 'GAP': 0.2663538811777117, 'Time': 3600.0933570861816}\n",
      "________________________________________________________________________________\n",
      "INSTANCIA (40, 13, 8)\n",
      "Para el modelo 1\n",
      "{'Obj': 9343.0, 'GAP': 0.24309704962278544, 'Time': 3600.1102352142334}\n",
      "Para el modelo 2\n",
      "{'Obj': 9267.0, 'GAP': 0.2967584996779848, 'Time': 3600.142707824707}\n",
      "________________________________________________________________________________\n",
      "INSTANCIA (40, 15, 15)\n",
      "Para el modelo 1\n",
      "{'Obj': inf, 'GAP': nan, 'Time': 3600.13987159729}\n",
      "Para el modelo 2\n",
      "{'Obj': inf, 'GAP': nan, 'Time': 3600.1931915283203}\n",
      "________________________________________________________________________________\n",
      "INSTANCIA (45, 14, 13)\n",
      "Para el modelo 1\n",
      "{'Obj': inf, 'GAP': nan, 'Time': 3600.213279724121}\n",
      "Para el modelo 2\n",
      "{'Obj': inf, 'GAP': nan, 'Time': 3600.149293899536}\n",
      "________________________________________________________________________________\n",
      "INSTANCIA (45, 19, 9)\n",
      "Para el modelo 1\n",
      "{'Obj': 9229.0, 'GAP': 0.09245946151897101, 'Time': 3600.2597465515137}\n",
      "Para el modelo 2\n",
      "{'Obj': 9219.0, 'GAP': 0.10664546709215113, 'Time': 3602.038688659668}\n",
      "________________________________________________________________________________\n",
      "INSTANCIA (45, 23, 14)\n",
      "Para el modelo 1\n",
      "{'Obj': 13946.0, 'GAP': 0.26955473711226924, 'Time': 3600.1814155578613}\n",
      "Para el modelo 2\n",
      "{'Obj': 13967.0, 'GAP': 0.2706209102222599, 'Time': 3600.2025356292725}\n",
      "________________________________________________________________________________\n",
      "INSTANCIA (45, 25, 15)\n",
      "Para el modelo 1\n",
      "{'Obj': inf, 'GAP': nan, 'Time': 3600.1529293060303}\n",
      "Para el modelo 2\n",
      "{'Obj': inf, 'GAP': nan, 'Time': 3600.258451461792}\n",
      "________________________________________________________________________________\n",
      "INSTANCIA (50, 13, 13)\n",
      "Para el modelo 1\n",
      "{'Obj': inf, 'GAP': nan, 'Time': 3600.118600845337}\n",
      "Para el modelo 2\n",
      "{'Obj': inf, 'GAP': nan, 'Time': 3600.139991760254}\n",
      "________________________________________________________________________________\n",
      "INSTANCIA (50, 14, 14)\n",
      "Para el modelo 1\n",
      "{'Obj': inf, 'GAP': nan, 'Time': 3600.1073207855225}\n",
      "Para el modelo 2\n",
      "{'Obj': inf, 'GAP': nan, 'Time': 3600.096559524536}\n",
      "________________________________________________________________________________\n",
      "INSTANCIA (50, 16, 13)\n",
      "Para el modelo 1\n",
      "{'Obj': inf, 'GAP': nan, 'Time': 3600.1253509521484}\n",
      "Para el modelo 2\n",
      "{'Obj': inf, 'GAP': nan, 'Time': 3600.128786087036}\n",
      "________________________________________________________________________________\n",
      "INSTANCIA (50, 21, 10)\n",
      "Para el modelo 1\n",
      "{'Obj': inf, 'GAP': nan, 'Time': 3600.1930961608887}\n",
      "Para el modelo 2\n",
      "{'Obj': inf, 'GAP': nan, 'Time': 3600.254566192627}\n",
      "________________________________________________________________________________\n",
      "INSTANCIA (55, 9, 6)\n",
      "Para el modelo 1\n",
      "{'Obj': 7501.0, 'GAP': 0.16360431815096207, 'Time': 3600.1170749664307}\n",
      "Para el modelo 2\n",
      "{'Obj': 7587.0, 'GAP': 0.02885951420813597, 'Time': 3600.0786781311035}\n",
      "________________________________________________________________________________\n",
      "INSTANCIA (55, 12, 9)\n",
      "Para el modelo 1\n",
      "{'Obj': 10072.0, 'GAP': 0.3735230142318614, 'Time': 3600.2203483581543}\n",
      "Para el modelo 2\n",
      "{'Obj': 10109.0, 'GAP': 0.3756997947408783, 'Time': 3600.280683517456}\n",
      "________________________________________________________________________________\n",
      "INSTANCIA (55, 23, 9)\n",
      "Para el modelo 1\n",
      "{'Obj': inf, 'GAP': nan, 'Time': 3600.1652908325195}\n",
      "Para el modelo 2\n",
      "{'Obj': 11706.0, 'GAP': 0.1948952925617592, 'Time': 3600.7008380889893}\n",
      "________________________________________________________________________________\n",
      "INSTANCIA (55, 24, 15)\n",
      "Para el modelo 1\n",
      "{'Obj': inf, 'GAP': nan, 'Time': 3600.0857639312744}\n",
      "Para el modelo 2\n",
      "{'Obj': inf, 'GAP': nan, 'Time': 3600.10489654541}\n",
      "________________________________________________________________________________\n",
      "INSTANCIA (60, 10, 6)\n",
      "Para el modelo 1\n",
      "{'Obj': 7493.0, 'GAP': 0.1465240329677468, 'Time': 3600.1622524261475}\n",
      "Para el modelo 2\n",
      "{'Obj': 7521.0, 'GAP': 0.2021665915675318, 'Time': 3600.175090789795}\n",
      "________________________________________________________________________________\n",
      "INSTANCIA (60, 17, 20)\n",
      "Para el modelo 1\n",
      "{'Obj': inf, 'GAP': nan, 'Time': 3600.0315074920654}\n",
      "Para el modelo 2\n",
      "{'Obj': inf, 'GAP': nan, 'Time': 3600.076364517212}\n",
      "________________________________________________________________________________\n",
      "INSTANCIA (60, 18, 2)\n",
      "Para el modelo 1\n",
      "{'Obj': 8511.0, 'GAP': 0.09797013893558991, 'Time': 3600.1527996063232}\n",
      "Para el modelo 2\n",
      "{'Obj': 8394.0, 'GAP': 0.03361598704625231, 'Time': 3600.1920585632324}\n",
      "________________________________________________________________________________\n",
      "INSTANCIA (60, 23, 18)\n",
      "Para el modelo 1\n",
      "{'Obj': inf, 'GAP': nan, 'Time': 3600.037754058838}\n",
      "Para el modelo 2\n",
      "{'Obj': inf, 'GAP': nan, 'Time': 3600.1164512634277}\n",
      "________________________________________________________________________________\n",
      "INSTANCIA (65, 15, 9)\n",
      "Para el modelo 1\n",
      "{'Obj': inf, 'GAP': nan, 'Time': 3600.2683868408203}\n",
      "Para el modelo 2\n",
      "{'Obj': 11072.0, 'GAP': 0.2687851747275522, 'Time': 3600.1705322265625}\n",
      "________________________________________________________________________________\n",
      "INSTANCIA (65, 19, 12)\n",
      "Para el modelo 1\n",
      "{'Obj': inf, 'GAP': nan, 'Time': 3600.1313457489014}\n",
      "Para el modelo 2\n",
      "{'Obj': inf, 'GAP': nan, 'Time': 3600.1183891296387}\n",
      "________________________________________________________________________________\n",
      "INSTANCIA (65, 22, 15)\n",
      "Para el modelo 1\n",
      "{'Obj': inf, 'GAP': nan, 'Time': 3600.0888690948486}\n",
      "Para el modelo 2\n",
      "{'Obj': inf, 'GAP': nan, 'Time': 3600.076431274414}\n",
      "________________________________________________________________________________\n",
      "INSTANCIA (65, 25, 19)\n",
      "Para el modelo 1\n",
      "{'Obj': inf, 'GAP': nan, 'Time': 3600.048236846924}\n",
      "Para el modelo 2\n",
      "{'Obj': inf, 'GAP': nan, 'Time': 3600.0548057556152}\n"
     ]
    }
   ],
   "source": [
    "for i in DatosInstancias3.keys():\n",
    "    print(\"____\"*20)\n",
    "    print(\"INSTANCIA {}\".format(i))\n",
    "    print(\"Para el modelo 1\")\n",
    "    print(DatosInstancias3[i][-4])\n",
    "    print(\"Para el modelo 2\")\n",
    "    print(DatosInstancias3[i][-1] )"
   ]
  },
  {
   "cell_type": "markdown",
   "metadata": {},
   "source": [
    "## GUARDAR LAS SOLUCIONES EN *.txt"
   ]
  },
  {
   "cell_type": "code",
   "execution_count": 48,
   "metadata": {},
   "outputs": [],
   "source": [
    "# open file for writing\n",
    "f = open(\"SOLUCIONES_MODELO1y2.txt\",\"w\")\n",
    "\n",
    "# write file\n",
    "f.write( str(DatosInstancias3) )\n",
    "\n",
    "# close file\n",
    "f.close()"
   ]
  },
  {
   "cell_type": "markdown",
   "metadata": {},
   "source": [
    "## COLOCACIÓN DE INDICADORES EN CADA INSTANCIA"
   ]
  },
  {
   "cell_type": "code",
   "execution_count": 34,
   "metadata": {},
   "outputs": [
    {
     "data": {
      "text/html": [
       "<div>\n",
       "<style scoped>\n",
       "    .dataframe tbody tr th:only-of-type {\n",
       "        vertical-align: middle;\n",
       "    }\n",
       "\n",
       "    .dataframe tbody tr th {\n",
       "        vertical-align: top;\n",
       "    }\n",
       "\n",
       "    .dataframe thead th {\n",
       "        text-align: right;\n",
       "    }\n",
       "</style>\n",
       "<table border=\"1\" class=\"dataframe\">\n",
       "  <thead>\n",
       "    <tr style=\"text-align: right;\">\n",
       "      <th></th>\n",
       "      <th></th>\n",
       "      <th></th>\n",
       "      <th>(Parametros, Rango de \\nVehículo para cada deposito)</th>\n",
       "      <th>(Parametros, Rango de \\ncapacidad)</th>\n",
       "      <th>(Parametros, Oferta para\\n cada lugar de abastecimiento)</th>\n",
       "      <th>(Parametros, Rango Demanda)</th>\n",
       "      <th>(MODELO 1, OBJ)</th>\n",
       "      <th>(MODELO 1, GAP)</th>\n",
       "      <th>(MODELO 1, Tiempo)</th>\n",
       "      <th>(MODELO 2, OBJ)</th>\n",
       "      <th>(MODELO 2, GAP)</th>\n",
       "      <th>(MODELO 2, Tiempo)</th>\n",
       "    </tr>\n",
       "  </thead>\n",
       "  <tbody>\n",
       "    <tr>\n",
       "      <th rowspan=\"4\" valign=\"top\">5</th>\n",
       "      <th>11</th>\n",
       "      <th>17</th>\n",
       "      <td>[2, 5]</td>\n",
       "      <td>[119, 122]</td>\n",
       "      <td>[525, 527]</td>\n",
       "      <td>[129, 154]</td>\n",
       "      <td>18252.0</td>\n",
       "      <td>0.030950</td>\n",
       "      <td>3600.240955</td>\n",
       "      <td>18252.0</td>\n",
       "      <td>0.109231</td>\n",
       "      <td>3600.107136</td>\n",
       "    </tr>\n",
       "    <tr>\n",
       "      <th>14</th>\n",
       "      <th>17</th>\n",
       "      <td>[2, 3]</td>\n",
       "      <td>[98, 99]</td>\n",
       "      <td>[545, 547]</td>\n",
       "      <td>[121, 160]</td>\n",
       "      <td>18053.0</td>\n",
       "      <td>0.169139</td>\n",
       "      <td>3600.111471</td>\n",
       "      <td>18053.0</td>\n",
       "      <td>0.120148</td>\n",
       "      <td>3600.164560</td>\n",
       "    </tr>\n",
       "    <tr>\n",
       "      <th>17</th>\n",
       "      <th>2</th>\n",
       "      <td>[1, 4]</td>\n",
       "      <td>[19, 22]</td>\n",
       "      <td>[64, 67]</td>\n",
       "      <td>[130, 158]</td>\n",
       "      <td>6903.0</td>\n",
       "      <td>0.000000</td>\n",
       "      <td>2131.610043</td>\n",
       "      <td>6903.0</td>\n",
       "      <td>0.000000</td>\n",
       "      <td>218.754740</td>\n",
       "    </tr>\n",
       "    <tr>\n",
       "      <th>18</th>\n",
       "      <th>6</th>\n",
       "      <td>[1, 3]</td>\n",
       "      <td>[44, 46]</td>\n",
       "      <td>[157, 161]</td>\n",
       "      <td>[124, 130]</td>\n",
       "      <td>9480.0</td>\n",
       "      <td>0.029545</td>\n",
       "      <td>3600.094406</td>\n",
       "      <td>9478.0</td>\n",
       "      <td>0.028174</td>\n",
       "      <td>3600.111372</td>\n",
       "    </tr>\n",
       "    <tr>\n",
       "      <th>10</th>\n",
       "      <th>11</th>\n",
       "      <th>10</th>\n",
       "      <td>[1, 2]</td>\n",
       "      <td>[120, 124]</td>\n",
       "      <td>[133, 137]</td>\n",
       "      <td>[121, 132]</td>\n",
       "      <td>9094.0</td>\n",
       "      <td>0.000000</td>\n",
       "      <td>2042.168102</td>\n",
       "      <td>9094.0</td>\n",
       "      <td>0.000000</td>\n",
       "      <td>237.849745</td>\n",
       "    </tr>\n",
       "  </tbody>\n",
       "</table>\n",
       "</div>"
      ],
      "text/plain": [
       "         (Parametros, Rango de \\nVehículo para cada deposito)  \\\n",
       "5  11 17                                             [2, 5]     \n",
       "   14 17                                             [2, 3]     \n",
       "   17 2                                              [1, 4]     \n",
       "   18 6                                              [1, 3]     \n",
       "10 11 10                                             [1, 2]     \n",
       "\n",
       "         (Parametros, Rango de \\ncapacidad)  \\\n",
       "5  11 17                         [119, 122]   \n",
       "   14 17                           [98, 99]   \n",
       "   17 2                            [19, 22]   \n",
       "   18 6                            [44, 46]   \n",
       "10 11 10                         [120, 124]   \n",
       "\n",
       "         (Parametros, Oferta para\\n cada lugar de abastecimiento)  \\\n",
       "5  11 17                                         [525, 527]         \n",
       "   14 17                                         [545, 547]         \n",
       "   17 2                                            [64, 67]         \n",
       "   18 6                                          [157, 161]         \n",
       "10 11 10                                         [133, 137]         \n",
       "\n",
       "         (Parametros, Rango Demanda)  (MODELO 1, OBJ)  (MODELO 1, GAP)  \\\n",
       "5  11 17                  [129, 154]          18252.0         0.030950   \n",
       "   14 17                  [121, 160]          18053.0         0.169139   \n",
       "   17 2                   [130, 158]           6903.0         0.000000   \n",
       "   18 6                   [124, 130]           9480.0         0.029545   \n",
       "10 11 10                  [121, 132]           9094.0         0.000000   \n",
       "\n",
       "          (MODELO 1, Tiempo)  (MODELO 2, OBJ)  (MODELO 2, GAP)  \\\n",
       "5  11 17         3600.240955          18252.0         0.109231   \n",
       "   14 17         3600.111471          18053.0         0.120148   \n",
       "   17 2          2131.610043           6903.0         0.000000   \n",
       "   18 6          3600.094406           9478.0         0.028174   \n",
       "10 11 10         2042.168102           9094.0         0.000000   \n",
       "\n",
       "          (MODELO 2, Tiempo)  \n",
       "5  11 17         3600.107136  \n",
       "   14 17         3600.164560  \n",
       "   17 2           218.754740  \n",
       "   18 6          3600.111372  \n",
       "10 11 10          237.849745  "
      ]
     },
     "execution_count": 34,
     "metadata": {},
     "output_type": "execute_result"
    }
   ],
   "source": [
    "df_instancias = pd.read_excel(\"InstanciasFinal.xlsx\",sheet_name= \"Sheet1\", header=0, index_col=[0,1,2])\n",
    "dfcolumns = [(\"Parametros\",i) for i in df_instancias.columns]\n",
    "df_instancias.columns = dfcolumns\n",
    "\n",
    "\n",
    "a = pd.Series([DatosInstancias3[i][-4][\"Obj\"] for i in DatosInstancias3.keys()])\n",
    "a.index = df_instancias.index\n",
    "df_instancias[(\"MODELO 1\",\"OBJ\")] = a\n",
    "\n",
    "a = pd.Series([DatosInstancias3[i][-4][\"GAP\"] for i in DatosInstancias3.keys()])\n",
    "a.index = df_instancias.index\n",
    "df_instancias[(\"MODELO 1\",\"GAP\")] = a\n",
    "\n",
    "a = pd.Series([DatosInstancias3[i][-4][\"Time\"] for i in DatosInstancias3.keys()])\n",
    "a.index = df_instancias.index\n",
    "df_instancias[(\"MODELO 1\",\"Tiempo\")] = a\n",
    "\n",
    "a = pd.Series([DatosInstancias3[i][-1][\"Obj\"] for i in DatosInstancias3.keys()])\n",
    "a.index = df_instancias.index\n",
    "df_instancias[(\"MODELO 2\",\"OBJ\")] = a\n",
    "\n",
    "a = pd.Series([DatosInstancias3[i][-1][\"GAP\"] for i in DatosInstancias3.keys()])\n",
    "a.index = df_instancias.index\n",
    "df_instancias[(\"MODELO 2\",\"GAP\")] = a\n",
    "\n",
    "a = pd.Series([DatosInstancias3[i][-1][\"Time\"] for i in DatosInstancias3.keys()])\n",
    "a.index = df_instancias.index\n",
    "df_instancias[(\"MODELO 2\",\"Tiempo\")] = a\n",
    "\n",
    "\n",
    "df_instancias.head()"
   ]
  },
  {
   "cell_type": "code",
   "execution_count": 35,
   "metadata": {},
   "outputs": [],
   "source": [
    "df_instancias.columns = pd.MultiIndex.from_tuples(df_instancias)"
   ]
  },
  {
   "cell_type": "code",
   "execution_count": 36,
   "metadata": {},
   "outputs": [],
   "source": [
    "df_instancias.to_excel(\"RESULTADOS_INSTANCIAS_FINAL.xlsx\")"
   ]
  },
  {
   "cell_type": "markdown",
   "metadata": {},
   "source": [
    "## GUARDAR RESULTADOS SOLO MODELO 2  "
   ]
  },
  {
   "cell_type": "code",
   "execution_count": 47,
   "metadata": {},
   "outputs": [],
   "source": [
    "df_instancias = pd.read_excel(\"InstanciasFinal.xlsx\",sheet_name= \"Sheet1\", header=0, index_col=[0,1,2])\n",
    "dfcolumns = [(\"Parametros\",i) for i in df_instancias.columns]\n",
    "df_instancias.columns = dfcolumns\n",
    "\n",
    "a = pd.Series([DatosInstancias3[i][-1][\"Obj\"] for i in DatosInstancias3.keys()])\n",
    "a.index = df_instancias.index\n",
    "df_instancias[(\"MODELO 2\",\"OBJ\")] = a\n",
    "\n",
    "a = pd.Series([DatosInstancias3[i][-1][\"GAP\"] for i in DatosInstancias3.keys()])\n",
    "a.index = df_instancias.index\n",
    "df_instancias[(\"MODELO 2\",\"GAP\")] = a\n",
    "\n",
    "a = pd.Series([DatosInstancias3[i][-1][\"Time\"] for i in DatosInstancias3.keys()])\n",
    "a.index = df_instancias.index\n",
    "df_instancias[(\"MODELO 2\",\"Tiempo\")] = a\n",
    "\n",
    "df_instancias.columns = pd.MultiIndex.from_tuples(df_instancias)\n",
    "df_instancias.to_excel(\"MODELO2_INSTANCIAS_FINAL.xlsx\")"
   ]
  }
 ],
 "metadata": {
  "kernelspec": {
   "display_name": "Python 3",
   "language": "python",
   "name": "python3"
  },
  "language_info": {
   "codemirror_mode": {
    "name": "ipython",
    "version": 3
   },
   "file_extension": ".py",
   "mimetype": "text/x-python",
   "name": "python",
   "nbconvert_exporter": "python",
   "pygments_lexer": "ipython3",
   "version": "3.7.7"
  }
 },
 "nbformat": 4,
 "nbformat_minor": 4
}
